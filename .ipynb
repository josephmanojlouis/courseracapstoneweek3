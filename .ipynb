{
 "cells": [
  {
   "cell_type": "markdown",
   "metadata": {},
   "source": [
    "# Introduction/Business Problem "
   ]
  },
  {
   "cell_type": "markdown",
   "metadata": {},
   "source": [
    "I am residing in Kerala India, many of the second generation job seekers are immigrating to Bangalore\n",
    "and Chennai which is the most important metro cities in South India.\n",
    "\n",
    "Information Technology (IT) boom coupled with Bangalore and Chennai being an\n",
    "educational and jobs hub has turned the cities to a sort of dream destination\n",
    "that most keralite youth chase.\n",
    "\n",
    "There has been a substantial increase in the number of keralites migrating to the said cities in the recent years\n",
    "and that the trend is set to continue in the following years.\n",
    "\n",
    "I like to analyse the neighborhoods in each of  the cities and tries to under stand what is popular in them,\n",
    "what they have to offer and what are the unique features of these cities capare to each other.\n",
    "\n",
    "**Business problem** in the project assums that the people who would be intrested in this project are those who like to choose these cities for education, jobs etc,the decession to choose one over the other depend on popular venues in the neighbohoods in each of metro cities. \n",
    "\n"
   ]
  },
  {
   "cell_type": "markdown",
   "metadata": {},
   "source": [
    "# Data description"
   ]
  },
  {
   "cell_type": "markdown",
   "metadata": {},
   "source": [
    "For any data science project data is of paramount importance.\n",
    "For this project i needed data about neighborhoods in each of these metro cities,\n",
    "the data published by government on postal codes for all India would serve me well\n",
    "for the project i dowloaded the CSV provided under [click here](https://data.gov.in/resources/all-india-pincode-directory-contact-details-along-latitude-and-longitude) \n",
    "\n",
    "Next i used Foursquare API to get the most common venues in both cities\n",
    "    \n"
   ]
  },
  {
   "cell_type": "code",
   "execution_count": null,
   "metadata": {},
   "outputs": [],
   "source": []
  }
 ],
 "metadata": {
  "kernelspec": {
   "display_name": "Python 3",
   "language": "python",
   "name": "python3"
  },
  "language_info": {
   "codemirror_mode": {
    "name": "ipython",
    "version": 3
   },
   "file_extension": ".py",
   "mimetype": "text/x-python",
   "name": "python",
   "nbconvert_exporter": "python",
   "pygments_lexer": "ipython3",
   "version": "3.7.7"
  }
 },
 "nbformat": 4,
 "nbformat_minor": 4
}
